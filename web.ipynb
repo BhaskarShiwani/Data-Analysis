{
  "nbformat": 4,
  "nbformat_minor": 0,
  "metadata": {
    "colab": {
      "provenance": [],
      "toc_visible": true,
      "authorship_tag": "ABX9TyOxF8ReWHvf44IwmwzQWNU8",
      "include_colab_link": true
    },
    "kernelspec": {
      "name": "python3",
      "display_name": "Python 3"
    },
    "language_info": {
      "name": "python"
    }
  },
  "cells": [
    {
      "cell_type": "markdown",
      "metadata": {
        "id": "view-in-github",
        "colab_type": "text"
      },
      "source": [
        "<a href=\"https://colab.research.google.com/github/BhaskarShiwani/Data-Analysis/blob/main/web.ipynb\" target=\"_parent\"><img src=\"https://colab.research.google.com/assets/colab-badge.svg\" alt=\"Open In Colab\"/></a>"
      ]
    },
    {
      "cell_type": "code",
      "execution_count": null,
      "metadata": {
        "id": "bGmc_FsPHCr8"
      },
      "outputs": [],
      "source": [
        "import requests #this is HTTP library\n",
        "from bs4 import BeautifulSoup #bs4 is s module/library in which we are importing beautifulsoup class\n",
        "url = \"https://books.toscrape.com/\" #url stroring the name of the website\n",
        "response = requests.get(url) #requets module used for scapping data for this get method used and for the websit(url) then whole answers save in response variable with heml, text."
      ]
    },
    {
      "cell_type": "code",
      "source": [
        "response.encoding = 'utf-8'\n",
        "print(response.status_code) #if status code 200 it meas, request has sent successfully\n",
        "soup = BeautifulSoup(response.text,'html.parser') #website ka raw html code ko readable format mein parse kiya jyga using BeautifulSoup class\n",
        "books = soup.find_all('article',class_ = 'product_pod')\n",
        "for book in books:\n",
        "  title = book.h3.a['title']\n",
        "  price = book.find('p', class_=\"price_color\").text\n",
        "  print(f\"Title : {title} | Price : {price}\")\n"
      ],
      "metadata": {
        "colab": {
          "base_uri": "https://localhost:8080/"
        },
        "id": "D_LOOO0LOrVb",
        "outputId": "77410a7e-5eaa-495a-97db-38a21f5dec76"
      },
      "execution_count": null,
      "outputs": [
        {
          "output_type": "stream",
          "name": "stdout",
          "text": [
            "200\n",
            "Title : A Light in the Attic | Price : £51.77\n",
            "Title : Tipping the Velvet | Price : £53.74\n",
            "Title : Soumission | Price : £50.10\n",
            "Title : Sharp Objects | Price : £47.82\n",
            "Title : Sapiens: A Brief History of Humankind | Price : £54.23\n",
            "Title : The Requiem Red | Price : £22.65\n",
            "Title : The Dirty Little Secrets of Getting Your Dream Job | Price : £33.34\n",
            "Title : The Coming Woman: A Novel Based on the Life of the Infamous Feminist, Victoria Woodhull | Price : £17.93\n",
            "Title : The Boys in the Boat: Nine Americans and Their Epic Quest for Gold at the 1936 Berlin Olympics | Price : £22.60\n",
            "Title : The Black Maria | Price : £52.15\n",
            "Title : Starving Hearts (Triangular Trade Trilogy, #1) | Price : £13.99\n",
            "Title : Shakespeare's Sonnets | Price : £20.66\n",
            "Title : Set Me Free | Price : £17.46\n",
            "Title : Scott Pilgrim's Precious Little Life (Scott Pilgrim #1) | Price : £52.29\n",
            "Title : Rip it Up and Start Again | Price : £35.02\n",
            "Title : Our Band Could Be Your Life: Scenes from the American Indie Underground, 1981-1991 | Price : £57.25\n",
            "Title : Olio | Price : £23.88\n",
            "Title : Mesaerion: The Best Science Fiction Stories 1800-1849 | Price : £37.59\n",
            "Title : Libertarianism for Beginners | Price : £51.33\n",
            "Title : It's Only the Himalayas | Price : £45.17\n"
          ]
        }
      ]
    },
    {
      "cell_type": "code",
      "source": [
        "import csv\n",
        "with open('book.csv','w',newline='',encoding='utf-8') as file:\n",
        "  writer = csv.writer(file)\n",
        "  writer.writerow(['Title','Price'])\n",
        "\n",
        "  for book in books:\n",
        "    title = book.h3.a['title']\n",
        "    price = book.find('p', class_ = \"price_color\").text.replace('Â',' ').strip()\n",
        "    writer.writerow([title,price])"
      ],
      "metadata": {
        "id": "r6KqAzdjZy4Q"
      },
      "execution_count": null,
      "outputs": []
    },
    {
      "cell_type": "code",
      "source": [
        "import pandas as pd\n",
        "df = pd.read_csv('book.csv')\n",
        "print(df.head())"
      ],
      "metadata": {
        "colab": {
          "base_uri": "https://localhost:8080/"
        },
        "id": "IF4vU7zad1BP",
        "outputId": "26af9789-1bbf-4b38-f330-2ba0a80dda1b"
      },
      "execution_count": null,
      "outputs": [
        {
          "output_type": "stream",
          "name": "stdout",
          "text": [
            "                                   Title   Price\n",
            "0                   A Light in the Attic  £51.77\n",
            "1                     Tipping the Velvet  £53.74\n",
            "2                             Soumission  £50.10\n",
            "3                          Sharp Objects  £47.82\n",
            "4  Sapiens: A Brief History of Humankind  £54.23\n"
          ]
        }
      ]
    },
    {
      "cell_type": "code",
      "source": [
        "from google.colab import files\n",
        "df.to_excel('book.xlsx', index=False)\n",
        "files.download('book.xlsx')"
      ],
      "metadata": {
        "colab": {
          "base_uri": "https://localhost:8080/",
          "height": 17
        },
        "id": "NyssqzKX5CH2",
        "outputId": "7e29facc-df44-4bd9-d9f5-d8d996dfb112"
      },
      "execution_count": null,
      "outputs": [
        {
          "output_type": "display_data",
          "data": {
            "text/plain": [
              "<IPython.core.display.Javascript object>"
            ],
            "application/javascript": [
              "\n",
              "    async function download(id, filename, size) {\n",
              "      if (!google.colab.kernel.accessAllowed) {\n",
              "        return;\n",
              "      }\n",
              "      const div = document.createElement('div');\n",
              "      const label = document.createElement('label');\n",
              "      label.textContent = `Downloading \"${filename}\": `;\n",
              "      div.appendChild(label);\n",
              "      const progress = document.createElement('progress');\n",
              "      progress.max = size;\n",
              "      div.appendChild(progress);\n",
              "      document.body.appendChild(div);\n",
              "\n",
              "      const buffers = [];\n",
              "      let downloaded = 0;\n",
              "\n",
              "      const channel = await google.colab.kernel.comms.open(id);\n",
              "      // Send a message to notify the kernel that we're ready.\n",
              "      channel.send({})\n",
              "\n",
              "      for await (const message of channel.messages) {\n",
              "        // Send a message to notify the kernel that we're ready.\n",
              "        channel.send({})\n",
              "        if (message.buffers) {\n",
              "          for (const buffer of message.buffers) {\n",
              "            buffers.push(buffer);\n",
              "            downloaded += buffer.byteLength;\n",
              "            progress.value = downloaded;\n",
              "          }\n",
              "        }\n",
              "      }\n",
              "      const blob = new Blob(buffers, {type: 'application/binary'});\n",
              "      const a = document.createElement('a');\n",
              "      a.href = window.URL.createObjectURL(blob);\n",
              "      a.download = filename;\n",
              "      div.appendChild(a);\n",
              "      a.click();\n",
              "      div.remove();\n",
              "    }\n",
              "  "
            ]
          },
          "metadata": {}
        },
        {
          "output_type": "display_data",
          "data": {
            "text/plain": [
              "<IPython.core.display.Javascript object>"
            ],
            "application/javascript": [
              "download(\"download_f7012ebf-ed25-4f04-8168-f6b236835320\", \"book.xlsx\", 5730)"
            ]
          },
          "metadata": {}
        }
      ]
    }
  ]
}